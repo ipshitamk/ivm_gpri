{
 "cells": [
  {
   "cell_type": "markdown",
   "id": "f6b341b9-4649-46ac-9f6c-6d8bdd126170",
   "metadata": {},
   "source": [
    "# Tropical Cyclone Risk Assessment\n",
    "\n",
    "In this notebook, we will perform a **tropical cyclone damage and risk assessment** for education infrastructure. The assessment is based on combining hazard data (e.g., flood depths) with vulnerability curves to estimate the potential damage to infrastructure.\n",
    "\n",
    "We will follow the steps outlined below to conduct the assessment:\n",
    "\n",
    "1. **Loading the necessary packages:**  \n",
    "   We will import the Python libraries required for data handling, analysis, and visualization.\n",
    "\n",
    "2. **Loading the data:**  \n",
    "   The infrastructure data (e.g., secondary schools) and hazard data (e.g., flood depths) will be loaded into the notebook.\n",
    "\n",
    "3. **Preparing the data:**  \n",
    "   The infrastructure and hazard data will be processed and data gaps can be filled, if required.\n",
    "\n",
    "4. **Performing the damage assessment:**  \n",
    "   We will apply vulnerability curves to estimate the potential damage based on the intensity of the hazard.\n",
    "\n",
    "5. **Visualizing the results:**  \n",
    "   Finally, we will visualize the estimated damage using graphs and maps to illustrate the impact on education infrastructure."
   ]
  },
  {
   "cell_type": "markdown",
   "id": "44a1efb4-69d5-4558-907f-d2e49ad7f9e8",
   "metadata": {},
   "source": [
    "## 1. Loading the Necessary Packages\n",
    "To perform the assessment, we are going to make use of several [python packages](https://docs.python.org/3/tutorial/modules.html#packages).\n",
    "\n",
    "In case you run this in Google Colab, you will have to install the packages below **(remove the hashtag in front of them)**."
   ]
  },
  {
   "cell_type": "code",
   "execution_count": null,
   "id": "72c6ae5d-1f1c-4fbf-ba7f-8c63026f34dc",
   "metadata": {},
   "outputs": [],
   "source": [
    "#!pip install damagescanner==0.9b14\n",
    "#!pip install contextily\n",
    "#!pip install exactextract\n",
    "#!pip install lonboard"
   ]
  },
  {
   "cell_type": "markdown",
   "id": "d678797c-9d70-4641-8248-e3601d30ad1c",
   "metadata": {},
   "source": [
    "In this step, we will import all the required Python libraries for data manipulation, spatial analysis, and visualization."
   ]
  },
  {
   "cell_type": "code",
   "execution_count": 1,
   "id": "12aaf0f4-aef2-4a67-9c30-c68f8f6550b2",
   "metadata": {},
   "outputs": [],
   "source": [
    "import warnings\n",
    "import xarray as xr\n",
    "import numpy as np\n",
    "import pandas as pd\n",
    "import geopandas as gpd\n",
    "import seaborn as sns\n",
    "import shapely\n",
    "\n",
    "import matplotlib.pyplot as plt\n",
    "import contextily as cx\n",
    "\n",
    "import damagescanner.download as download\n",
    "from damagescanner.core import DamageScanner\n",
    "from damagescanner.osm import read_osm_data\n",
    "from damagescanner.base_values import DICT_CIS_VULNERABILITY_FLOOD\n",
    "\n",
    "from lonboard import viz\n",
    "\n",
    "warnings.simplefilter(action='ignore', category=FutureWarning)\n",
    "warnings.simplefilter(action='ignore', category=RuntimeWarning) # exactextract gives a warning that is invalid"
   ]
  },
  {
   "cell_type": "markdown",
   "id": "5221d308-3de6-4809-912a-3380f8689b44",
   "metadata": {},
   "source": [
    "### Specify the country of interest"
   ]
  },
  {
   "cell_type": "markdown",
   "id": "0eb24ca2-dfac-4e29-9280-6029cd46674b",
   "metadata": {},
   "source": [
    "Before we continue, we should specify the country for which we want to assess the damage. We use the ISO3 code for the country to download the OpenStreetMap data."
   ]
  },
  {
   "cell_type": "code",
   "execution_count": 2,
   "id": "684bae52-154c-44e1-9439-b38be147ea5e",
   "metadata": {},
   "outputs": [],
   "source": [
    "country_full_name = 'Angola'\n",
    "country_iso3 = 'AGO'"
   ]
  },
  {
   "cell_type": "markdown",
   "id": "e43578d8-ea9d-48e9-80b3-aa3bc0f99af7",
   "metadata": {},
   "source": [
    "## 2. Loading the Data\n",
    "In this step, we will load four key datasets:\n",
    "\n",
    "1. **Infrastructure data:**  \n",
    "   This dataset contains information on the location and type of transportation infrastructure (e.g., roads). Each asset may have attributes such as type, length, and replacement cost.\n",
    "\n",
    "2. **Hazard data:**  \n",
    "   This dataset includes information on the hazard affecting the infrastructure (e.g., flood depth at various locations).\n",
    "\n",
    "3. **Vulnerability curves:**  \n",
    "   Vulnerability curves define how the infrastructure's damage increases with the intensity of the hazard. For example, flood depth-damage curves specify how much damage occurs for different flood depths.\n",
    "\n",
    "4. **Maximum damage values:**  \n",
    "   This dataset contains the maximum possible damage (in monetary terms) that can be incurred by individual infrastructure assets. This is crucial for calculating total damage based on the vulnerability curves."
   ]
  },
  {
   "cell_type": "markdown",
   "id": "8ca4b6a6-8558-4caf-a170-741a38f0ed56",
   "metadata": {},
   "source": [
    "### Infrastructure Data\n",
    "\n",
    "We will perform this example analysis for Jamaica. To start the analysis, we first download the OpenStreetMap data from GeoFabrik. "
   ]
  },
  {
   "cell_type": "code",
   "execution_count": 3,
   "id": "91971e0c-f5bd-41cc-90c8-866ccbe589d8",
   "metadata": {},
   "outputs": [],
   "source": [
    "infrastructure_path = download.get_country_geofabrik(country_iso3)"
   ]
  },
  {
   "cell_type": "markdown",
   "id": "6ed16ff7-a9b4-4793-990d-eecc2e842ced",
   "metadata": {},
   "source": [
    "Now we load the data and read only the education data."
   ]
  },
  {
   "cell_type": "code",
   "execution_count": 4,
   "id": "78dfb1ee-4b1b-481a-b0a2-9a615bdde8e9",
   "metadata": {},
   "outputs": [
    {
     "name": "stdout",
     "output_type": "stream",
     "text": [
      "CPU times: user 25.3 s, sys: 2.38 s, total: 27.7 s\n",
      "Wall time: 27 s\n"
     ]
    }
   ],
   "source": [
    "%%time\n",
    "features = read_osm_data(infrastructure_path,asset_type='power')"
   ]
  },
  {
   "cell_type": "code",
   "execution_count": 5,
   "id": "96aad40b-658a-42ba-9838-e4c0f24fd1e4",
   "metadata": {},
   "outputs": [],
   "source": [
    "sub_types = features.object_type.unique()"
   ]
  },
  {
   "cell_type": "code",
   "execution_count": 6,
   "id": "e61ad295-db0c-415d-8416-4af124c5486b",
   "metadata": {},
   "outputs": [
    {
     "data": {
      "text/plain": [
       "array(['tower', 'plant', 'substation', 'portal', 'generator',\n",
       "       'transformer', 'pole', 'minor_line', 'line', 'cable'], dtype=object)"
      ]
     },
     "execution_count": 6,
     "metadata": {},
     "output_type": "execute_result"
    }
   ],
   "source": [
    "sub_types"
   ]
  },
  {
   "cell_type": "markdown",
   "id": "1a63ad14-a317-4228-b781-7074e82b6c08",
   "metadata": {},
   "source": [
    "And we can explore our data interactively "
   ]
  },
  {
   "cell_type": "code",
   "execution_count": 7,
   "id": "8746d133-185e-4537-b6f6-5c4c5a25510c",
   "metadata": {},
   "outputs": [
    {
     "data": {
      "application/vnd.jupyter.widget-view+json": {
       "model_id": "05022492c8b54b2480b3da5f0d666d03",
       "version_major": 2,
       "version_minor": 1
      },
      "text/plain": [
       "Map(basemap_style=<CartoBasemap.DarkMatter: 'https://basemaps.cartocdn.com/gl/dark-matter-gl-style/style.json'…"
      ]
     },
     "execution_count": 7,
     "metadata": {},
     "output_type": "execute_result"
    }
   ],
   "source": [
    "viz(features)"
   ]
  },
  {
   "cell_type": "markdown",
   "id": "1d89865b-030d-4be4-a6ef-ce18b05716ee",
   "metadata": {},
   "source": [
    "### Hazard Data\n",
    "For this example, we make use of the flood data provided by [CDRI](https://giri.unepgrid.ch/map?list=explore).\n",
    "\n",
    "We use a 1/250 Tropical Cyclone wind speed map to showcase the approach."
   ]
  },
  {
   "cell_type": "code",
   "execution_count": 8,
   "id": "caae035e-64f2-4c69-9565-e95f73fe067f",
   "metadata": {},
   "outputs": [],
   "source": [
    "hazard_map = xr.open_dataset(\"https://hazards-data.unepgrid.ch/Wind_T250.tif\", engine=\"rasterio\")"
   ]
  },
  {
   "cell_type": "code",
   "execution_count": 9,
   "id": "e9f25659-8d72-4826-9b69-f0ee1d7e373e",
   "metadata": {},
   "outputs": [
    {
     "data": {
      "text/plain": [
       "<matplotlib.collections.QuadMesh at 0x33e506180>"
      ]
     },
     "execution_count": 9,
     "metadata": {},
     "output_type": "execute_result"
    },
    {
     "data": {
      "image/png": "[encoded data removed]",
      "text/plain": [
       "<Figure size 640x480 with 2 Axes>"
      ]
     },
     "metadata": {},
     "output_type": "display_data"
    }
   ],
   "source": [
    "hazard_map.band_data.plot()"
   ]
  },
  {
   "cell_type": "markdown",
   "id": "ee05bef0-90c3-4f33-814f-fb421246e1be",
   "metadata": {},
   "source": [
    "### Maximum damages\n",
    "One of the most difficult parts of the assessment is to define the maximum reconstruction cost of particular assets. Here we provide a baseline set of values, but these should be updated through national consultations.\n",
    "\n",
    "Locations of education facilities are (somewhat randomly) geotagged as either points or polygons. This matters quite a lot for the maximum damages. For polygons, we would use damage per square meter, whereas for points, we would estimate the damage to the entire asset at once. Here we take the approach of converting the points to polygons, and there define our maximum damages in dollar per square meter. "
   ]
  },
  {
   "cell_type": "code",
   "execution_count": 123,
   "id": "92df3cdf-4f61-470f-8b7e-c1eb6d01bcd8",
   "metadata": {},
   "outputs": [],
   "source": [
    "maxdam_dict = {'cable' : 300,     \n",
    "               'plant': 1000,\n",
    "    'pole': 500,\n",
    "    'substation': 5000,\n",
    "    'tower': 2000,\n",
    "    'portal': 1000,\n",
    "    'transformer': 2500,\n",
    "    'generator': 75000,\n",
    "    'line': 200,\n",
    "    'minor_line': 100}"
   ]
  },
  {
   "cell_type": "markdown",
   "id": "79192a0b-8615-432e-b55b-63df78629924",
   "metadata": {},
   "source": [
    "To be used in our damage assessment, we convert this to a Pandas DataFrame"
   ]
  },
  {
   "cell_type": "code",
   "execution_count": 124,
   "id": "7dd0aeec-16eb-4ef6-afcf-9cbc7372a245",
   "metadata": {},
   "outputs": [],
   "source": [
    "maxdam = pd.DataFrame.from_dict(maxdam_dict,orient='index').reset_index()\n",
    "maxdam.columns = ['object_type','damage']"
   ]
  },
  {
   "cell_type": "markdown",
   "id": "5e01cfcf-28a3-4efb-97a7-60c44c2ce6e8",
   "metadata": {},
   "source": [
    "And check if any of the objects are missing from the dataframe."
   ]
  },
  {
   "cell_type": "code",
   "execution_count": 125,
   "id": "4509ac0b-effd-4e03-917f-a3d55d4c62d5",
   "metadata": {},
   "outputs": [
    {
     "name": "stdout",
     "output_type": "stream",
     "text": [
      "Index(['object_type', 'damage'], dtype='object')\n"
     ]
    }
   ],
   "source": [
    "print(maxdam.columns)"
   ]
  },
  {
   "cell_type": "code",
   "execution_count": 126,
   "id": "b148228d-80ad-460e-ae98-52219e64ce79",
   "metadata": {},
   "outputs": [],
   "source": [
    "missing = set(sub_types) - set(maxdam.object_type)\n",
    "\n",
    "if len(missing) > 0:\n",
    "    print(f\"Missing object types in maxdam: \\033[1m{', '.join(missing)}\\033[0m. Please add them before you continue.\")"
   ]
  },
  {
   "cell_type": "markdown",
   "id": "84b69fd7-393a-48f6-aae6-33b19bb2e3b9",
   "metadata": {},
   "source": [
    "### Vulnerability data\n",
    "Similarly to the maximum damages, specifying the vulnerability curves is complex. We generally have limited information about the quality of the assets, its level of deteriation and other asset-level characteristics."
   ]
  },
  {
   "cell_type": "code",
   "execution_count": 127,
   "id": "ec8a021f-0c9d-41a7-846b-fd78af69cd85",
   "metadata": {},
   "outputs": [],
   "source": [
    "vulnerability_path = \"https://zenodo.org/records/13889558/files/Table_D2_Hazard_Fragility_and_Vulnerability_Curves_V1.1.0.xlsx?download=1\"\n",
    "vul_df = pd.read_excel(vulnerability_path,sheet_name='W_Vuln_V10m')"
   ]
  },
  {
   "cell_type": "markdown",
   "id": "6ad555da-f453-4e2a-9d7b-dcb20e6e960b",
   "metadata": {},
   "source": [
    "And let's have a look at all the available options"
   ]
  },
  {
   "cell_type": "code",
   "execution_count": 128,
   "id": "c9a14865-3350-41ba-ad48-eb4886c63874",
   "metadata": {
    "scrolled": true
   },
   "outputs": [
    {
     "data": {
      "text/html": [
       "<div>\n",
       "<style scoped>\n",
       "    .dataframe tbody tr th:only-of-type {\n",
       "        vertical-align: middle;\n",
       "    }\n",
       "\n",
       "    .dataframe tbody tr th {\n",
       "        vertical-align: top;\n",
       "    }\n",
       "\n",
       "    .dataframe thead th {\n",
       "        text-align: right;\n",
       "    }\n",
       "</style>\n",
       "<table border=\"1\" class=\"dataframe\">\n",
       "  <thead>\n",
       "    <tr style=\"text-align: right;\">\n",
       "      <th></th>\n",
       "      <th>0</th>\n",
       "      <th>1</th>\n",
       "    </tr>\n",
       "  </thead>\n",
       "  <tbody>\n",
       "    <tr>\n",
       "      <th>ID number</th>\n",
       "      <td>Infrastructure description</td>\n",
       "      <td>Additional characteristics</td>\n",
       "    </tr>\n",
       "    <tr>\n",
       "      <th>W1.1</th>\n",
       "      <td>Windturbine</td>\n",
       "      <td>1-MW capacity, 40-m hub height</td>\n",
       "    </tr>\n",
       "    <tr>\n",
       "      <th>W1.1a</th>\n",
       "      <td>Windturbine</td>\n",
       "      <td>1-MW capacity, 40-m hub height</td>\n",
       "    </tr>\n",
       "    <tr>\n",
       "      <th>W1.1b</th>\n",
       "      <td>Windturbine</td>\n",
       "      <td>1-MW capacity, 40-m hub height</td>\n",
       "    </tr>\n",
       "    <tr>\n",
       "      <th>W1.2</th>\n",
       "      <td>Windturbine</td>\n",
       "      <td>2.5-MW capacity, 80-m hub height</td>\n",
       "    </tr>\n",
       "    <tr>\n",
       "      <th>W1.2a</th>\n",
       "      <td>Windturbine</td>\n",
       "      <td>2.5-MW capacity, 80-m hub height</td>\n",
       "    </tr>\n",
       "    <tr>\n",
       "      <th>W1.2b</th>\n",
       "      <td>Windturbine</td>\n",
       "      <td>2.5-MW capacity, 80-m hub height</td>\n",
       "    </tr>\n",
       "    <tr>\n",
       "      <th>W1.3</th>\n",
       "      <td>Windturbine</td>\n",
       "      <td>3.3-MW capacity, 100-m hub height</td>\n",
       "    </tr>\n",
       "    <tr>\n",
       "      <th>W1.3a</th>\n",
       "      <td>Windturbine</td>\n",
       "      <td>3.3-MW capacity, 100-m hub height</td>\n",
       "    </tr>\n",
       "    <tr>\n",
       "      <th>W1.3b</th>\n",
       "      <td>Windturbine</td>\n",
       "      <td>3.3-MW capacity, 100-m hub height</td>\n",
       "    </tr>\n",
       "    <tr>\n",
       "      <th>W3.5</th>\n",
       "      <td>Power tower</td>\n",
       "      <td>Design speed 110 km/h, urban terrain</td>\n",
       "    </tr>\n",
       "    <tr>\n",
       "      <th>W3.6</th>\n",
       "      <td>Power tower</td>\n",
       "      <td>Design speed 120 km/h, urban terrain</td>\n",
       "    </tr>\n",
       "    <tr>\n",
       "      <th>W3.7</th>\n",
       "      <td>Power tower</td>\n",
       "      <td>Design speed 130 km/h, urban terrain</td>\n",
       "    </tr>\n",
       "    <tr>\n",
       "      <th>W3.8</th>\n",
       "      <td>Power tower</td>\n",
       "      <td>Design speed 140 km/h, urban terrain</td>\n",
       "    </tr>\n",
       "    <tr>\n",
       "      <th>W3.9</th>\n",
       "      <td>Power tower</td>\n",
       "      <td>Design speed 150 km/h, urban terrain</td>\n",
       "    </tr>\n",
       "    <tr>\n",
       "      <th>W3.10</th>\n",
       "      <td>Power tower</td>\n",
       "      <td>Design speed 160 km/h, urban terrain</td>\n",
       "    </tr>\n",
       "    <tr>\n",
       "      <th>W3.11</th>\n",
       "      <td>Power tower</td>\n",
       "      <td>Design speed 170 km/h, urban terrain</td>\n",
       "    </tr>\n",
       "    <tr>\n",
       "      <th>W3.12</th>\n",
       "      <td>Power tower</td>\n",
       "      <td>Design speed 180 km/h, urban terrain</td>\n",
       "    </tr>\n",
       "    <tr>\n",
       "      <th>W3.13</th>\n",
       "      <td>Power tower</td>\n",
       "      <td>Design speed 190 km/h, urban terrain</td>\n",
       "    </tr>\n",
       "    <tr>\n",
       "      <th>W3.14</th>\n",
       "      <td>Power tower</td>\n",
       "      <td>Design speed 200 km/h, urban terrain</td>\n",
       "    </tr>\n",
       "    <tr>\n",
       "      <th>W7.2</th>\n",
       "      <td>Roads</td>\n",
       "      <td>NaN</td>\n",
       "    </tr>\n",
       "    <tr>\n",
       "      <th>W14.1</th>\n",
       "      <td>Water treatment plant</td>\n",
       "      <td>NaN</td>\n",
       "    </tr>\n",
       "    <tr>\n",
       "      <th>W16.1</th>\n",
       "      <td>Transmission and distribution pipelines</td>\n",
       "      <td>Buried pipelines</td>\n",
       "    </tr>\n",
       "    <tr>\n",
       "      <th>W18.1</th>\n",
       "      <td>Wastewater treatment plant</td>\n",
       "      <td>NaN</td>\n",
       "    </tr>\n",
       "    <tr>\n",
       "      <th>W19.1</th>\n",
       "      <td>Sewers &amp; interceptors</td>\n",
       "      <td>Buried pipelines</td>\n",
       "    </tr>\n",
       "    <tr>\n",
       "      <th>W21.1</th>\n",
       "      <td>School</td>\n",
       "      <td>Building design: Marcos</td>\n",
       "    </tr>\n",
       "    <tr>\n",
       "      <th>W21.2</th>\n",
       "      <td>School</td>\n",
       "      <td>Building design: BLSB1</td>\n",
       "    </tr>\n",
       "    <tr>\n",
       "      <th>W21.3</th>\n",
       "      <td>School</td>\n",
       "      <td>Building design: RPUS</td>\n",
       "    </tr>\n",
       "    <tr>\n",
       "      <th>W21.4</th>\n",
       "      <td>School</td>\n",
       "      <td>Building design: DECS std.</td>\n",
       "    </tr>\n",
       "    <tr>\n",
       "      <th>W21.5</th>\n",
       "      <td>School</td>\n",
       "      <td>Building design: DepEd STD</td>\n",
       "    </tr>\n",
       "    <tr>\n",
       "      <th>W21.10</th>\n",
       "      <td>School</td>\n",
       "      <td>Wooden roof structure</td>\n",
       "    </tr>\n",
       "    <tr>\n",
       "      <th>W21.10a</th>\n",
       "      <td>School</td>\n",
       "      <td>Wooden roof structure</td>\n",
       "    </tr>\n",
       "    <tr>\n",
       "      <th>W21.10b</th>\n",
       "      <td>School</td>\n",
       "      <td>Wooden roof structure</td>\n",
       "    </tr>\n",
       "  </tbody>\n",
       "</table>\n",
       "</div>"
      ],
      "text/plain": [
       "                                                 0  \\\n",
       "ID number               Infrastructure description   \n",
       "W1.1                                   Windturbine   \n",
       "W1.1a                                  Windturbine   \n",
       "W1.1b                                  Windturbine   \n",
       "W1.2                                   Windturbine   \n",
       "W1.2a                                  Windturbine   \n",
       "W1.2b                                  Windturbine   \n",
       "W1.3                                   Windturbine   \n",
       "W1.3a                                  Windturbine   \n",
       "W1.3b                                  Windturbine   \n",
       "W3.5                                   Power tower   \n",
       "W3.6                                   Power tower   \n",
       "W3.7                                   Power tower   \n",
       "W3.8                                   Power tower   \n",
       "W3.9                                   Power tower   \n",
       "W3.10                                  Power tower   \n",
       "W3.11                                  Power tower   \n",
       "W3.12                                  Power tower   \n",
       "W3.13                                  Power tower   \n",
       "W3.14                                  Power tower   \n",
       "W7.2                                         Roads   \n",
       "W14.1                        Water treatment plant   \n",
       "W16.1      Transmission and distribution pipelines   \n",
       "W18.1                   Wastewater treatment plant   \n",
       "W19.1                        Sewers & interceptors   \n",
       "W21.1                                       School   \n",
       "W21.2                                       School   \n",
       "W21.3                                       School   \n",
       "W21.4                                       School   \n",
       "W21.5                                       School   \n",
       "W21.10                                      School   \n",
       "W21.10a                                     School   \n",
       "W21.10b                                     School   \n",
       "\n",
       "                                              1  \n",
       "ID number            Additional characteristics  \n",
       "W1.1             1-MW capacity, 40-m hub height  \n",
       "W1.1a            1-MW capacity, 40-m hub height  \n",
       "W1.1b            1-MW capacity, 40-m hub height  \n",
       "W1.2           2.5-MW capacity, 80-m hub height  \n",
       "W1.2a          2.5-MW capacity, 80-m hub height  \n",
       "W1.2b          2.5-MW capacity, 80-m hub height  \n",
       "W1.3          3.3-MW capacity, 100-m hub height  \n",
       "W1.3a         3.3-MW capacity, 100-m hub height  \n",
       "W1.3b         3.3-MW capacity, 100-m hub height  \n",
       "W3.5       Design speed 110 km/h, urban terrain  \n",
       "W3.6       Design speed 120 km/h, urban terrain  \n",
       "W3.7       Design speed 130 km/h, urban terrain  \n",
       "W3.8       Design speed 140 km/h, urban terrain  \n",
       "W3.9       Design speed 150 km/h, urban terrain  \n",
       "W3.10      Design speed 160 km/h, urban terrain  \n",
       "W3.11      Design speed 170 km/h, urban terrain  \n",
       "W3.12      Design speed 180 km/h, urban terrain  \n",
       "W3.13      Design speed 190 km/h, urban terrain  \n",
       "W3.14      Design speed 200 km/h, urban terrain  \n",
       "W7.2                                        NaN  \n",
       "W14.1                                       NaN  \n",
       "W16.1                          Buried pipelines  \n",
       "W18.1                                       NaN  \n",
       "W19.1                          Buried pipelines  \n",
       "W21.1                   Building design: Marcos  \n",
       "W21.2                    Building design: BLSB1  \n",
       "W21.3                     Building design: RPUS  \n",
       "W21.4                Building design: DECS std.  \n",
       "W21.5                Building design: DepEd STD  \n",
       "W21.10                    Wooden roof structure  \n",
       "W21.10a                   Wooden roof structure  \n",
       "W21.10b                   Wooden roof structure  "
      ]
     },
     "metadata": {},
     "output_type": "display_data"
    }
   ],
   "source": [
    "with pd.option_context('display.max_rows', None, 'display.max_colwidth', None):\n",
    "  display(vul_df.iloc[:2,:].T)"
   ]
  },
  {
   "cell_type": "markdown",
   "id": "00977769-d96a-445c-ba7a-98ece1617b33",
   "metadata": {},
   "source": [
    "As we do not exactly know which curves we may want to use, we can also run the analysis with all curves. To do so, we select all education-related curves from Nirandjan et al. (2024)'s database."
   ]
  },
  {
   "cell_type": "code",
   "execution_count": 129,
   "id": "569a920a-b60f-44e8-910a-1b850d4809c7",
   "metadata": {},
   "outputs": [],
   "source": [
    "selected_curves = ['W3.5','W3.6','W3.7','W3.8','W3.9','W3.10','W3.11','W3.12','W3.13','W3.14']"
   ]
  },
  {
   "cell_type": "markdown",
   "id": "927c11f9-efa6-45aa-8b02-48f7819d711b",
   "metadata": {},
   "source": [
    "The next step is to extract the curves from the database, and prepare them for proper usage into our analysis.\n",
    "\n",
    "We start by selecting the curve IDs from the larger pandas DataFrame **vul_df**:"
   ]
  },
  {
   "cell_type": "code",
   "execution_count": 130,
   "id": "a41b61af-d6bd-4850-8dd7-a9b38d0be207",
   "metadata": {
    "scrolled": true
   },
   "outputs": [],
   "source": [
    "damage_curves = vul_df[['ID number']+selected_curves]\n",
    "damage_curves = damage_curves.iloc[4:125,:]"
   ]
  },
  {
   "cell_type": "markdown",
   "id": "2776c8e2-8893-4f48-88ae-ff77ac1ddaee",
   "metadata": {},
   "source": [
    "Then for convenience, we rename the index name to the hazard intensity we are considering. "
   ]
  },
  {
   "cell_type": "code",
   "execution_count": 131,
   "id": "cbeb1ba2-8d76-4186-8ea3-1d70b7653a30",
   "metadata": {},
   "outputs": [],
   "source": [
    "damage_curves.set_index('ID number',inplace=True)\n",
    "damage_curves.index = damage_curves.index.rename('WindSpeed')  "
   ]
  },
  {
   "cell_type": "markdown",
   "id": "48f0a165-da2a-4c15-b5d5-810513b64e00",
   "metadata": {},
   "source": [
    "And make sure that our damage values are in floating numbers. "
   ]
  },
  {
   "cell_type": "code",
   "execution_count": 132,
   "id": "bc9d1df2-0084-4edf-81de-54d7e0cdf335",
   "metadata": {},
   "outputs": [],
   "source": [
    "damage_curves = damage_curves.astype(np.float32)"
   ]
  },
  {
   "cell_type": "markdown",
   "id": "ab148f8f-5d0b-4344-b533-65a67a08aaa6",
   "metadata": {},
   "source": [
    "And ensure that the columns of the curves link back to the different asset types we are considering:"
   ]
  },
  {
   "cell_type": "code",
   "execution_count": 133,
   "id": "ce96e022-6117-443e-b5c8-15db09cbd6cc",
   "metadata": {},
   "outputs": [],
   "source": [
    "damage_curves.columns = sub_types"
   ]
  },
  {
   "cell_type": "markdown",
   "id": "c10ba468-c472-4d22-b2d1-d5a19908d354",
   "metadata": {},
   "source": [
    "There could be some **NaN** values at the tail of some of the curves. To make sure the code works, we fill up the **NaN** values with the last value of each of the curves. "
   ]
  },
  {
   "cell_type": "code",
   "execution_count": 134,
   "id": "21b214c8-a143-45b1-a250-84442e546bde",
   "metadata": {},
   "outputs": [],
   "source": [
    "damage_curves = damage_curves.fillna(method='ffill')"
   ]
  },
  {
   "cell_type": "markdown",
   "id": "29be5b7d-8b2a-41f2-9580-dada1076e8a0",
   "metadata": {},
   "source": [
    "And check if any of the objects are missing from the dataframe."
   ]
  },
  {
   "cell_type": "markdown",
   "id": "ca20cec0-5c74-4220-9402-714172dc70f4",
   "metadata": {},
   "source": [
    "But in some cases, we do not exactly know which curves we may want to use. As such, we can also run the analysis with all curves. To do so, we select all education-related curves from Nirandjan et al. (2024)'s database."
   ]
  },
  {
   "cell_type": "code",
   "execution_count": 135,
   "id": "dcccc7d3-f245-4b19-9211-2ed1758e5fae",
   "metadata": {},
   "outputs": [],
   "source": [
    "unique_curves = ['W21.1','W21.2','W21.3','W21.4','W21.5','W21.10']"
   ]
  },
  {
   "cell_type": "markdown",
   "id": "8d7ebb25-b9f2-4772-89e5-f72e12a65501",
   "metadata": {},
   "source": [
    "And create a dictionary that contains a pandas DataFrame for all object types, for each vulnerability curve. "
   ]
  },
  {
   "cell_type": "code",
   "execution_count": 136,
   "id": "9f818d3a-0758-40e4-83c9-ac427666893e",
   "metadata": {},
   "outputs": [],
   "source": [
    "multi_curves = {}\n",
    "for unique_curve in unique_curves:\n",
    "\n",
    "    curve_creation = damage_curves.copy()\n",
    "    \n",
    "    get_curve_values = vul_df[unique_curve].iloc[4:125].values\n",
    "    \n",
    "    for curve in curve_creation:\n",
    "        curve_creation.loc[:,curve] = get_curve_values\n",
    "\n",
    "    multi_curves[unique_curve] = curve_creation.astype(np.float32).fillna(method='ffill')"
   ]
  },
  {
   "cell_type": "markdown",
   "id": "4b8f6aed-6096-4701-93b3-e2f861cd733d",
   "metadata": {},
   "source": [
    "### Ancilliary data for processing"
   ]
  },
  {
   "cell_type": "code",
   "execution_count": 88,
   "id": "ef02d9a2-1790-4632-b66f-3e7e57eb9d51",
   "metadata": {},
   "outputs": [],
   "source": [
    "world = gpd.read_file(\"https://github.com/nvkelso/natural-earth-vector/raw/master/10m_cultural/ne_10m_admin_0_countries.shp\")\n",
    "world_plot = world.to_crs(3857)"
   ]
  },
  {
   "cell_type": "code",
   "execution_count": 89,
   "id": "df306b07-906b-4601-b0d8-4c0158d2aca8",
   "metadata": {},
   "outputs": [],
   "source": [
    "admin1 = gpd.read_file(\"https://github.com/nvkelso/natural-earth-vector/raw/master/10m_cultural/ne_10m_admin_1_states_provinces.shp\")"
   ]
  },
  {
   "cell_type": "markdown",
   "id": "e288af4e-c397-46d5-a6cd-606a01ea4ed1",
   "metadata": {},
   "source": [
    "## 3. Preparing the Data"
   ]
  },
  {
   "cell_type": "markdown",
   "id": "afc45662-dce8-4f15-a673-48a92bbd247b",
   "metadata": {},
   "source": [
    "Clip the hazard data to the country of interest."
   ]
  },
  {
   "cell_type": "code",
   "execution_count": 137,
   "id": "b8c53736-48af-4dd7-8443-95b1039d7653",
   "metadata": {},
   "outputs": [],
   "source": [
    "country_bounds = world.loc[world.ADM0_ISO == country_iso3].bounds\n",
    "country_geom = world.loc[world.ADM0_ISO == country_iso3].geometry"
   ]
  },
  {
   "cell_type": "code",
   "execution_count": 138,
   "id": "f9cf5c27-1bfc-4b27-8b2d-790a3a478a79",
   "metadata": {},
   "outputs": [],
   "source": [
    "hazard_country = hazard_map.rio.clip_box(minx=country_bounds.minx.values[0],\n",
    "                     miny=country_bounds.miny.values[0],\n",
    "                     maxx=country_bounds.maxx.values[0],\n",
    "                     maxy=country_bounds.maxy.values[0]\n",
    "                    )"
   ]
  },
  {
   "cell_type": "markdown",
   "id": "e68d52e3-f338-42f0-8165-dd0a8bc0288c",
   "metadata": {},
   "source": [
    "### Convert point data to polygons. \n",
    "\n",
    "For some data, there are both points and polygons available. It makes life easier to estimate the damage using polygons. Therefore, we convert those points to Polygons below. \n",
    "\n",
    "Let's first get an overview of the different geometry types for all the assets we are considering in this analysis:"
   ]
  },
  {
   "cell_type": "code",
   "execution_count": 139,
   "id": "266560b4-3168-45df-b1d0-961b47bf1ee0",
   "metadata": {},
   "outputs": [],
   "source": [
    "features['geom_type'] = features.geom_type"
   ]
  },
  {
   "cell_type": "code",
   "execution_count": 140,
   "id": "07b0be31-1381-4e9a-8b1a-58016ee92a05",
   "metadata": {},
   "outputs": [
    {
     "data": {
      "text/plain": [
       "object_type  geom_type   \n",
       "cable        LineString          2\n",
       "generator    LineString        503\n",
       "             Point              20\n",
       "line         LineString        260\n",
       "minor_line   LineString        409\n",
       "plant        LineString         17\n",
       "             MultiPolygon       51\n",
       "             Polygon             1\n",
       "pole         Point            6006\n",
       "portal       Point             185\n",
       "substation   LineString        171\n",
       "             MultiPolygon        7\n",
       "             Polygon             8\n",
       "tower        Point           19493\n",
       "transformer  Point             120\n",
       "Name: geometry, dtype: int64"
      ]
     },
     "execution_count": 140,
     "metadata": {},
     "output_type": "execute_result"
    }
   ],
   "source": [
    "features.groupby(['object_type','geom_type']).count()['geometry']"
   ]
  },
  {
   "cell_type": "markdown",
   "id": "04b546be-0461-4d0a-b5ec-855d643fd0b5",
   "metadata": {},
   "source": [
    "The results above indicate that several asset types that are expected to be *Polygons* are stored as *Points* as well. It would be preferably to convert them all to polygons. For the *Points*, we will have to estimate a the average size, so we can use that to create a `buffer` around the assets.\n",
    "\n",
    "To do so, let's grab the polygon data and estimate their size. We grab the median so we are not too much influenced by extreme outliers. If preferred, please change `.median()` to `.mean()` (or any other metric). "
   ]
  },
  {
   "cell_type": "code",
   "execution_count": 141,
   "id": "d095abf4-1408-4227-8a87-04fcb17683d9",
   "metadata": {
    "scrolled": true
   },
   "outputs": [
    {
     "data": {
      "text/html": [
       "<div>\n",
       "<style scoped>\n",
       "    .dataframe tbody tr th:only-of-type {\n",
       "        vertical-align: middle;\n",
       "    }\n",
       "\n",
       "    .dataframe tbody tr th {\n",
       "        vertical-align: top;\n",
       "    }\n",
       "\n",
       "    .dataframe thead th {\n",
       "        text-align: right;\n",
       "    }\n",
       "</style>\n",
       "<table border=\"1\" class=\"dataframe\">\n",
       "  <thead>\n",
       "    <tr style=\"text-align: right;\">\n",
       "      <th></th>\n",
       "      <th>square_m2</th>\n",
       "    </tr>\n",
       "    <tr>\n",
       "      <th>object_type</th>\n",
       "      <th></th>\n",
       "    </tr>\n",
       "  </thead>\n",
       "  <tbody>\n",
       "    <tr>\n",
       "      <th>plant</th>\n",
       "      <td>12212.099622</td>\n",
       "    </tr>\n",
       "    <tr>\n",
       "      <th>substation</th>\n",
       "      <td>1726.662567</td>\n",
       "    </tr>\n",
       "  </tbody>\n",
       "</table>\n",
       "</div>"
      ],
      "text/plain": [
       "                square_m2\n",
       "object_type              \n",
       "plant        12212.099622\n",
       "substation    1726.662567"
      ]
     },
     "execution_count": 141,
     "metadata": {},
     "output_type": "execute_result"
    }
   ],
   "source": [
    "polygon_features = features.loc[features.geometry.geom_type.isin(['Polygon','MultiPolygon'])].to_crs(3857)\n",
    "polygon_features['square_m2'] = polygon_features.area\n",
    "\n",
    "square_m2_object_type = polygon_features[['object_type','square_m2']].groupby('object_type').median()\n",
    "square_m2_object_type"
   ]
  },
  {
   "cell_type": "markdown",
   "id": "1efdf07b-f8c6-4f94-8040-12c15f97285d",
   "metadata": {},
   "source": [
    "Now we create a list in which we define the assets we want to \"polygonize\": "
   ]
  },
  {
   "cell_type": "code",
   "execution_count": 142,
   "id": "c4296f4c-1fbd-4689-8a62-ba28593e171a",
   "metadata": {},
   "outputs": [],
   "source": [
    "points_to_polygonize = ['plant','substation']"
   ]
  },
  {
   "cell_type": "markdown",
   "id": "f7081f86-dd60-419f-ab0b-4d594ec2378f",
   "metadata": {},
   "source": [
    "And take them from our data again:"
   ]
  },
  {
   "cell_type": "code",
   "execution_count": 143,
   "id": "2ce238b8-7aaa-4483-b012-c502f0947086",
   "metadata": {},
   "outputs": [],
   "source": [
    "all_assets_to_polygonize = features.loc[(features.object_type.isin(points_to_polygonize)) & (features.geometry.geom_type == 'Point')]"
   ]
  },
  {
   "cell_type": "markdown",
   "id": "eebee897-a4de-4c28-94ea-d8cbcb0cb959",
   "metadata": {},
   "source": [
    "When performing a buffer, it is always best to do this in meters. As such, we will briefly convert the point data into a **crs** system in meters."
   ]
  },
  {
   "cell_type": "code",
   "execution_count": 144,
   "id": "f148c6af-3e98-4a81-a9a4-2db1c6c50c0f",
   "metadata": {},
   "outputs": [],
   "source": [
    "all_assets_to_polygonize = all_assets_to_polygonize.to_crs(3857)"
   ]
  },
  {
   "cell_type": "code",
   "execution_count": 145,
   "id": "d06e8cd1-0613-4650-8fe3-2b2d9922c53d",
   "metadata": {},
   "outputs": [],
   "source": [
    "def polygonize_point_per_asset(asset):\n",
    "\n",
    "    # we first need to set a buffer length. This is half of width/length of an asset.\n",
    "    buffer_length = np.sqrt(square_m2_object_type.loc[asset.object_type].values[0])/2\n",
    "\n",
    "    # then we can buffer the asset\n",
    "    return asset.geometry.buffer(buffer_length,cap_style='square')\n",
    "\n",
    "collect_new_point_geometries = all_assets_to_polygonize.apply(lambda asset:  polygonize_point_per_asset(asset),axis=1).set_crs(3857).to_crs(4326).values"
   ]
  },
  {
   "cell_type": "code",
   "execution_count": 146,
   "id": "495c92cd-4d67-428b-bb15-7c166cb5e2c7",
   "metadata": {},
   "outputs": [
    {
     "ename": "ValueError",
     "evalue": "Must have equal len keys and value when setting with an ndarray",
     "output_type": "error",
     "traceback": [
      "\u001b[31m---------------------------------------------------------------------------\u001b[39m",
      "\u001b[31mValueError\u001b[39m                                Traceback (most recent call last)",
      "\u001b[36mCell\u001b[39m\u001b[36m \u001b[39m\u001b[32mIn[146]\u001b[39m\u001b[32m, line 1\u001b[39m\n\u001b[32m----> \u001b[39m\u001b[32m1\u001b[39m \u001b[43mfeatures\u001b[49m\u001b[43m.\u001b[49m\u001b[43mloc\u001b[49m\u001b[43m[\u001b[49m\u001b[43m(\u001b[49m\u001b[43mfeatures\u001b[49m\u001b[43m.\u001b[49m\u001b[43mobject_type\u001b[49m\u001b[43m.\u001b[49m\u001b[43misin\u001b[49m\u001b[43m(\u001b[49m\u001b[43mpoints_to_polygonize\u001b[49m\u001b[43m)\u001b[49m\u001b[43m)\u001b[49m\u001b[43m \u001b[49m\u001b[43m&\u001b[49m\u001b[43m \u001b[49m\u001b[43m(\u001b[49m\u001b[43mfeatures\u001b[49m\u001b[43m.\u001b[49m\u001b[43mgeometry\u001b[49m\u001b[43m.\u001b[49m\u001b[43mgeom_type\u001b[49m\u001b[43m \u001b[49m\u001b[43m==\u001b[49m\u001b[43m \u001b[49m\u001b[33;43m'\u001b[39;49m\u001b[33;43mPoint\u001b[39;49m\u001b[33;43m'\u001b[39;49m\u001b[43m)\u001b[49m\u001b[43m,\u001b[49m\u001b[33;43m'\u001b[39;49m\u001b[33;43mgeometry\u001b[39;49m\u001b[33;43m'\u001b[39;49m\u001b[43m]\u001b[49m = collect_new_point_geometries\n",
      "\u001b[36mFile \u001b[39m\u001b[32m~/mambaforge/envs/infra-risk/lib/python3.12/site-packages/pandas/core/indexing.py:911\u001b[39m, in \u001b[36m_LocationIndexer.__setitem__\u001b[39m\u001b[34m(self, key, value)\u001b[39m\n\u001b[32m    908\u001b[39m \u001b[38;5;28mself\u001b[39m._has_valid_setitem_indexer(key)\n\u001b[32m    910\u001b[39m iloc = \u001b[38;5;28mself\u001b[39m \u001b[38;5;28;01mif\u001b[39;00m \u001b[38;5;28mself\u001b[39m.name == \u001b[33m\"\u001b[39m\u001b[33miloc\u001b[39m\u001b[33m\"\u001b[39m \u001b[38;5;28;01melse\u001b[39;00m \u001b[38;5;28mself\u001b[39m.obj.iloc\n\u001b[32m--> \u001b[39m\u001b[32m911\u001b[39m \u001b[43miloc\u001b[49m\u001b[43m.\u001b[49m\u001b[43m_setitem_with_indexer\u001b[49m\u001b[43m(\u001b[49m\u001b[43mindexer\u001b[49m\u001b[43m,\u001b[49m\u001b[43m \u001b[49m\u001b[43mvalue\u001b[49m\u001b[43m,\u001b[49m\u001b[43m \u001b[49m\u001b[38;5;28;43mself\u001b[39;49m\u001b[43m.\u001b[49m\u001b[43mname\u001b[49m\u001b[43m)\u001b[49m\n",
      "\u001b[36mFile \u001b[39m\u001b[32m~/mambaforge/envs/infra-risk/lib/python3.12/site-packages/pandas/core/indexing.py:1942\u001b[39m, in \u001b[36m_iLocIndexer._setitem_with_indexer\u001b[39m\u001b[34m(self, indexer, value, name)\u001b[39m\n\u001b[32m   1939\u001b[39m \u001b[38;5;66;03m# align and set the values\u001b[39;00m\n\u001b[32m   1940\u001b[39m \u001b[38;5;28;01mif\u001b[39;00m take_split_path:\n\u001b[32m   1941\u001b[39m     \u001b[38;5;66;03m# We have to operate column-wise\u001b[39;00m\n\u001b[32m-> \u001b[39m\u001b[32m1942\u001b[39m     \u001b[38;5;28;43mself\u001b[39;49m\u001b[43m.\u001b[49m\u001b[43m_setitem_with_indexer_split_path\u001b[49m\u001b[43m(\u001b[49m\u001b[43mindexer\u001b[49m\u001b[43m,\u001b[49m\u001b[43m \u001b[49m\u001b[43mvalue\u001b[49m\u001b[43m,\u001b[49m\u001b[43m \u001b[49m\u001b[43mname\u001b[49m\u001b[43m)\u001b[49m\n\u001b[32m   1943\u001b[39m \u001b[38;5;28;01melse\u001b[39;00m:\n\u001b[32m   1944\u001b[39m     \u001b[38;5;28mself\u001b[39m._setitem_single_block(indexer, value, name)\n",
      "\u001b[36mFile \u001b[39m\u001b[32m~/mambaforge/envs/infra-risk/lib/python3.12/site-packages/pandas/core/indexing.py:1982\u001b[39m, in \u001b[36m_iLocIndexer._setitem_with_indexer_split_path\u001b[39m\u001b[34m(self, indexer, value, name)\u001b[39m\n\u001b[32m   1977\u001b[39m     \u001b[38;5;28mself\u001b[39m._setitem_with_indexer_frame_value(indexer, value, name)\n\u001b[32m   1979\u001b[39m \u001b[38;5;28;01melif\u001b[39;00m np.ndim(value) == \u001b[32m2\u001b[39m:\n\u001b[32m   1980\u001b[39m     \u001b[38;5;66;03m# TODO: avoid np.ndim call in case it isn't an ndarray, since\u001b[39;00m\n\u001b[32m   1981\u001b[39m     \u001b[38;5;66;03m#  that will construct an ndarray, which will be wasteful\u001b[39;00m\n\u001b[32m-> \u001b[39m\u001b[32m1982\u001b[39m     \u001b[38;5;28;43mself\u001b[39;49m\u001b[43m.\u001b[49m\u001b[43m_setitem_with_indexer_2d_value\u001b[49m\u001b[43m(\u001b[49m\u001b[43mindexer\u001b[49m\u001b[43m,\u001b[49m\u001b[43m \u001b[49m\u001b[43mvalue\u001b[49m\u001b[43m)\u001b[49m\n\u001b[32m   1984\u001b[39m \u001b[38;5;28;01melif\u001b[39;00m \u001b[38;5;28mlen\u001b[39m(ilocs) == \u001b[32m1\u001b[39m \u001b[38;5;129;01mand\u001b[39;00m lplane_indexer == \u001b[38;5;28mlen\u001b[39m(value) \u001b[38;5;129;01mand\u001b[39;00m \u001b[38;5;129;01mnot\u001b[39;00m is_scalar(pi):\n\u001b[32m   1985\u001b[39m     \u001b[38;5;66;03m# We are setting multiple rows in a single column.\u001b[39;00m\n\u001b[32m   1986\u001b[39m     \u001b[38;5;28mself\u001b[39m._setitem_single_column(ilocs[\u001b[32m0\u001b[39m], value, pi)\n",
      "\u001b[36mFile \u001b[39m\u001b[32m~/mambaforge/envs/infra-risk/lib/python3.12/site-packages/pandas/core/indexing.py:2048\u001b[39m, in \u001b[36m_iLocIndexer._setitem_with_indexer_2d_value\u001b[39m\u001b[34m(self, indexer, value)\u001b[39m\n\u001b[32m   2046\u001b[39m     value = np.array(value, dtype=\u001b[38;5;28mobject\u001b[39m)\n\u001b[32m   2047\u001b[39m \u001b[38;5;28;01mif\u001b[39;00m \u001b[38;5;28mlen\u001b[39m(ilocs) != value.shape[\u001b[32m1\u001b[39m]:\n\u001b[32m-> \u001b[39m\u001b[32m2048\u001b[39m     \u001b[38;5;28;01mraise\u001b[39;00m \u001b[38;5;167;01mValueError\u001b[39;00m(\n\u001b[32m   2049\u001b[39m         \u001b[33m\"\u001b[39m\u001b[33mMust have equal len keys and value when setting with an ndarray\u001b[39m\u001b[33m\"\u001b[39m\n\u001b[32m   2050\u001b[39m     )\n\u001b[32m   2052\u001b[39m \u001b[38;5;28;01mfor\u001b[39;00m i, loc \u001b[38;5;129;01min\u001b[39;00m \u001b[38;5;28menumerate\u001b[39m(ilocs):\n\u001b[32m   2053\u001b[39m     value_col = value[:, i]\n",
      "\u001b[31mValueError\u001b[39m: Must have equal len keys and value when setting with an ndarray"
     ]
    }
   ],
   "source": [
    "features.loc[(features.object_type.isin(points_to_polygonize)) & (features.geometry.geom_type == 'Point'),'geometry'] = collect_new_point_geometries"
   ]
  },
  {
   "cell_type": "markdown",
   "id": "8d53a172-0744-4252-b47e-18ce48b9ce3b",
   "metadata": {},
   "source": [
    "And check if any \"undesired\" *Points* are still left:"
   ]
  },
  {
   "cell_type": "code",
   "execution_count": 147,
   "id": "3c14e874-d4a3-4934-8f3f-f4a9f4420a6c",
   "metadata": {
    "scrolled": true
   },
   "outputs": [
    {
     "data": {
      "text/html": [
       "<div>\n",
       "<style scoped>\n",
       "    .dataframe tbody tr th:only-of-type {\n",
       "        vertical-align: middle;\n",
       "    }\n",
       "\n",
       "    .dataframe tbody tr th {\n",
       "        vertical-align: top;\n",
       "    }\n",
       "\n",
       "    .dataframe thead th {\n",
       "        text-align: right;\n",
       "    }\n",
       "</style>\n",
       "<table border=\"1\" class=\"dataframe\">\n",
       "  <thead>\n",
       "    <tr style=\"text-align: right;\">\n",
       "      <th></th>\n",
       "      <th>osm_id</th>\n",
       "      <th>geometry</th>\n",
       "      <th>name</th>\n",
       "      <th>object_type</th>\n",
       "      <th>geom_type</th>\n",
       "    </tr>\n",
       "  </thead>\n",
       "  <tbody>\n",
       "  </tbody>\n",
       "</table>\n",
       "</div>"
      ],
      "text/plain": [
       "Empty GeoDataFrame\n",
       "Columns: [osm_id, geometry, name, object_type, geom_type]\n",
       "Index: []"
      ]
     },
     "execution_count": 147,
     "metadata": {},
     "output_type": "execute_result"
    }
   ],
   "source": [
    "features.loc[(features.object_type.isin(points_to_polygonize)) & (features.geometry.geom_type == 'Point')]"
   ]
  },
  {
   "cell_type": "markdown",
   "id": "7c299eeb-aaa1-4a92-981c-763778bcd965",
   "metadata": {},
   "source": [
    "And remove the 'geom_type' column again, as we do not need it again."
   ]
  },
  {
   "cell_type": "markdown",
   "id": "5ce0650d-68a9-427a-9602-e318989dec00",
   "metadata": {},
   "source": [
    "## 5. Performing the Damage Assessment\n",
    "We will use the DamageScanner approach. This is a fully optimised damage calculation method, that can capture a wide range of inputs to perform a damage assessment. We will first perform this using only a single damage curve."
   ]
  },
  {
   "cell_type": "code",
   "execution_count": 148,
   "id": "2a959c8c-f962-46a1-915a-e5d44464d340",
   "metadata": {},
   "outputs": [
    {
     "name": "stderr",
     "output_type": "stream",
     "text": [
      "Overlay raster with vector: 100%|████████████| 728/728 [00:05<00:00, 139.37it/s]\n",
      "convert coverage to meters: 1it [00:00, 3155.98it/s]"
     ]
    },
    {
     "name": "stdout",
     "output_type": "stream",
     "text": [
      "CPU times: user 5.24 s, sys: 104 ms, total: 5.35 s\n",
      "Wall time: 5.36 s\n"
     ]
    },
    {
     "name": "stderr",
     "output_type": "stream",
     "text": [
      "\n"
     ]
    }
   ],
   "source": [
    "%%time\n",
    "damage_results = DamageScanner(hazard_country, features, damage_curves, maxdam).calculate(disable_progress=False)"
   ]
  },
  {
   "cell_type": "markdown",
   "id": "5c16a1c0-e680-4b15-bfa7-be01d87f7d30",
   "metadata": {},
   "source": [
    "And run this also with the range of vulnerability curves."
   ]
  },
  {
   "cell_type": "code",
   "execution_count": 149,
   "id": "1a3601ab-605a-42ec-8b1b-bd749a57af4a",
   "metadata": {},
   "outputs": [
    {
     "name": "stdout",
     "output_type": "stream",
     "text": [
      "Index(['osm_id', 'geometry', 'name', 'object_type', 'geom_type', 'values',\n",
      "       'coverage'],\n",
      "      dtype='object')\n"
     ]
    }
   ],
   "source": [
    "print(damage_results.columns)"
   ]
  },
  {
   "cell_type": "code",
   "execution_count": 104,
   "id": "02468fa1-7837-4ab0-8922-e6e8fe496819",
   "metadata": {},
   "outputs": [
    {
     "name": "stderr",
     "output_type": "stream",
     "text": [
      "Overlay raster with vector: 100%|████████████| 728/728 [00:05<00:00, 140.14it/s]\n",
      "convert coverage to meters: 1it [00:00, 2659.67it/s]"
     ]
    },
    {
     "name": "stdout",
     "output_type": "stream",
     "text": [
      "CPU times: user 5.26 s, sys: 50.5 ms, total: 5.31 s\n",
      "Wall time: 5.31 s\n"
     ]
    },
    {
     "name": "stderr",
     "output_type": "stream",
     "text": [
      "\n"
     ]
    }
   ],
   "source": [
    "%%time\n",
    "all_results = DamageScanner(hazard_country, features, damage_curves, maxdam).calculate(multi_curves=multi_curves)"
   ]
  },
  {
   "cell_type": "markdown",
   "id": "da2d88c1-e5e5-4bc3-a0fb-1e4e99c4789d",
   "metadata": {},
   "source": [
    "## 5. Save the Results\n",
    "For further analysis, we can save the results in their full detail, or save summary estimates per subnational unit "
   ]
  },
  {
   "cell_type": "code",
   "execution_count": 105,
   "id": "95461586-56ff-48c7-b959-eb3b364500fe",
   "metadata": {},
   "outputs": [],
   "source": [
    "hazard = 'tropical_cyclones'\n",
    "return_period = '1_250'\n",
    "damage_results.to_file(f'Power_Damage_{country_full_name}_{hazard}_{return_period}.gpkg')"
   ]
  },
  {
   "cell_type": "code",
   "execution_count": 106,
   "id": "0ba6148f-4e6e-486c-821b-0635a94d4955",
   "metadata": {
    "scrolled": true
   },
   "outputs": [],
   "source": [
    "admin1_country = admin1.loc[admin1.sov_a3 == country_iso3]"
   ]
  },
  {
   "cell_type": "code",
   "execution_count": 110,
   "id": "99037246-414b-4fbd-a805-134956162265",
   "metadata": {},
   "outputs": [
    {
     "name": "stdout",
     "output_type": "stream",
     "text": [
      "Index(['featurecla', 'scalerank', 'adm1_code', 'diss_me', 'iso_3166_2',\n",
      "       'wikipedia', 'iso_a2', 'adm0_sr', 'name', 'name_alt',\n",
      "       ...\n",
      "       'FCLASS_ID', 'FCLASS_PL', 'FCLASS_GR', 'FCLASS_IT', 'FCLASS_NL',\n",
      "       'FCLASS_SE', 'FCLASS_BD', 'FCLASS_UA', 'FCLASS_TLC', 'geometry'],\n",
      "      dtype='object', length=122)\n"
     ]
    }
   ],
   "source": [
    "print(admin1_country.columns)"
   ]
  },
  {
   "cell_type": "code",
   "execution_count": 107,
   "id": "69aef147-2203-4d6d-9948-b271b70dc013",
   "metadata": {},
   "outputs": [
    {
     "name": "stdout",
     "output_type": "stream",
     "text": [
      "Index(['osm_id', 'geometry', 'name', 'object_type', 'geom_type', 'values',\n",
      "       'coverage'],\n",
      "      dtype='object')\n"
     ]
    }
   ],
   "source": [
    "print(damage_results.columns)"
   ]
  },
  {
   "cell_type": "code",
   "execution_count": 116,
   "id": "2d042388-c9b8-4b80-b867-a143f5202170",
   "metadata": {},
   "outputs": [
    {
     "data": {
      "text/html": [
       "<div>\n",
       "<style scoped>\n",
       "    .dataframe tbody tr th:only-of-type {\n",
       "        vertical-align: middle;\n",
       "    }\n",
       "\n",
       "    .dataframe tbody tr th {\n",
       "        vertical-align: top;\n",
       "    }\n",
       "\n",
       "    .dataframe thead th {\n",
       "        text-align: right;\n",
       "    }\n",
       "</style>\n",
       "<table border=\"1\" class=\"dataframe\">\n",
       "  <thead>\n",
       "    <tr style=\"text-align: right;\">\n",
       "      <th></th>\n",
       "      <th>osm_id</th>\n",
       "      <th>geometry</th>\n",
       "      <th>name_left</th>\n",
       "      <th>object_type</th>\n",
       "      <th>geom_type</th>\n",
       "      <th>values</th>\n",
       "      <th>coverage</th>\n",
       "      <th>index_right</th>\n",
       "      <th>adm1_code</th>\n",
       "      <th>name_right</th>\n",
       "    </tr>\n",
       "  </thead>\n",
       "  <tbody>\n",
       "  </tbody>\n",
       "</table>\n",
       "</div>"
      ],
      "text/plain": [
       "Empty GeoDataFrame\n",
       "Columns: [osm_id, geometry, name_left, object_type, geom_type, values, coverage, index_right, adm1_code, name_right]\n",
       "Index: []"
      ]
     },
     "execution_count": 116,
     "metadata": {},
     "output_type": "execute_result"
    }
   ],
   "source": [
    "damage_results.head()"
   ]
  },
  {
   "cell_type": "code",
   "execution_count": 117,
   "id": "c934bcb0-1bd5-4b6b-8d74-3de9e49ce16f",
   "metadata": {},
   "outputs": [],
   "source": [
    "# Clean and aggregate\n",
    "damage_summary = damage_results[['name_right', 'values']].groupby('name_right').sum().reset_index()\n",
    "\n",
    "# Merge with admin1_country\n",
    "admin1_damage = admin1_country.merge(\n",
    "    damage_summary,\n",
    "    left_on='name',     # assuming 'name' in admin1_country refers to admin1 names\n",
    "    right_on='name_right',\n",
    "    how='outer'\n",
    ")[['name', 'adm1_code', 'geometry', 'values']]\n",
    "\n"
   ]
  },
  {
   "cell_type": "code",
   "execution_count": 118,
   "id": "da0a4437-fb9e-46ea-8ec2-218f81fee90b",
   "metadata": {},
   "outputs": [],
   "source": [
    "if 'index_right' in damage_results.columns:\n",
    "    damage_results = damage_results.drop(columns='index_right')\n",
    "damage_results = damage_results.sjoin(admin1_country[['adm1_code','name','geometry']])"
   ]
  },
  {
   "cell_type": "code",
   "execution_count": 119,
   "id": "ed8f1db1-ba5e-4ed7-ba8b-6f6ad089b15c",
   "metadata": {},
   "outputs": [],
   "source": [
    "admin1_damage.to_file(f'Admin1_Eduation_Damage_{country_full_name}_{hazard}_{return_period}.gpkg')"
   ]
  },
  {
   "cell_type": "markdown",
   "id": "8d64f90d-bf96-47af-bcc2-c360a488cb65",
   "metadata": {},
   "source": [
    "## 6. Visualizing the Results\n",
    "The results of the damage assessment can be visualized using charts and maps. This will provide a clear representation of which infrastructure is most affected by the hazard and the expected damage levels."
   ]
  },
  {
   "cell_type": "markdown",
   "id": "e22ad4ae-c7b4-480e-8286-3328bb182ee7",
   "metadata": {},
   "source": [
    "And create a distribution of the damages."
   ]
  },
  {
   "cell_type": "code",
   "execution_count": 150,
   "id": "8c60f11f-ab90-4342-a17e-cbc082cdbd74",
   "metadata": {},
   "outputs": [
    {
     "data": {
      "text/plain": [
       "<Axes: xlabel='values', ylabel='Count'>"
      ]
     },
     "execution_count": 150,
     "metadata": {},
     "output_type": "execute_result"
    },
    {
     "data": {
      "image/png": "[encoded data removed]",
      "text/plain": [
       "<Figure size 700x300 with 1 Axes>"
      ]
     },
     "metadata": {},
     "output_type": "display_data"
    }
   ],
   "source": [
    "fig, ax = plt.subplots(1,1,figsize=(7, 3))\n",
    "\n",
    "sns.histplot(data=damage_results,x='values',ax=ax)"
   ]
  },
  {
   "cell_type": "markdown",
   "id": "e3a66d7e-6cb8-4cf1-aa79-90df85ae6991",
   "metadata": {},
   "source": [
    "Plot location of most damaged healthcare facilities"
   ]
  },
  {
   "cell_type": "code",
   "execution_count": 151,
   "id": "3e16e6e2-ec0b-4218-b550-43ed39dd2a65",
   "metadata": {},
   "outputs": [
    {
     "name": "stderr",
     "output_type": "stream",
     "text": [
      "/var/folders/tb/lt6mv9zn47973s97jtlwv_b40000gn/T/ipykernel_80229/3743039733.py:5: UserWarning: The GeoDataFrame you are attempting to plot is empty. Nothing has been displayed.\n",
      "  subset.plot(ax=ax,column='object_type',markersize=10,legend=True)\n"
     ]
    },
    {
     "data": {
      "image/png": "[encoded data removed]",
      "text/plain": [
       "<Figure size 1000x500 with 1 Axes>"
      ]
     },
     "metadata": {},
     "output_type": "display_data"
    }
   ],
   "source": [
    "fig, ax = plt.subplots(1,1,figsize=(10, 5))\n",
    "\n",
    "subset = damage_results.to_crs(3857).sort_values('values',ascending=False).head(20)\n",
    "subset.geometry = subset.centroid\n",
    "subset.plot(ax=ax,column='object_type',markersize=10,legend=True)\n",
    "world_plot.loc[world.SOV_A3 == country_iso3].plot(ax=ax,facecolor=\"none\",edgecolor='black')\n",
    "cx.add_basemap(ax, source=cx.providers.CartoDB.Positron,alpha=0.5)\n",
    "ax.set_axis_off()"
   ]
  },
  {
   "cell_type": "code",
   "execution_count": 152,
   "id": "7fc9d408-c5a4-4178-a711-e76a97ef4259",
   "metadata": {},
   "outputs": [
    {
     "data": {
      "application/vnd.jupyter.widget-view+json": {
       "model_id": "f963f1b4ff064e8286bb5f59823e7040",
       "version_major": 2,
       "version_minor": 1
      },
      "text/plain": [
       "Map(basemap_style=<CartoBasemap.DarkMatter: 'https://basemaps.cartocdn.com/gl/dark-matter-gl-style/style.json'…"
      ]
     },
     "execution_count": 152,
     "metadata": {},
     "output_type": "execute_result"
    }
   ],
   "source": [
    "viz(damage_results)"
   ]
  },
  {
   "cell_type": "markdown",
   "id": "adc86fea-cce9-423b-a0fd-324b227946e3",
   "metadata": {},
   "source": [
    "## 7. Performing the Risk Assessment\n",
    "To do so, we need to select the return periods we want to include, and create a dictioniary as input. We will create this below."
   ]
  },
  {
   "cell_type": "code",
   "execution_count": 153,
   "id": "bcfe0ff5-6442-4551-a7a6-0c8166948423",
   "metadata": {},
   "outputs": [],
   "source": [
    "return_periods = [25,50,100,250] \n",
    "\n",
    "hazard_dict = {}\n",
    "collect_max_pres = []\n",
    "for return_period in return_periods:\n",
    "    hazard_map = xr.open_dataset(f\"https://hazards-data.unepgrid.ch/Wind_T{return_period}.tif\", engine=\"rasterio\")\n",
    "\n",
    "    hazard_dict[return_period] = hazard_map.rio.clip_box(minx=country_bounds.minx.values[0],\n",
    "                     miny=country_bounds.miny.values[0],\n",
    "                     maxx=country_bounds.maxx.values[0],\n",
    "                     maxy=country_bounds.maxy.values[0]\n",
    "                    )\n",
    "    collect_max_pres.append(hazard_map.band_data.max().values)    "
   ]
  },
  {
   "cell_type": "markdown",
   "id": "d5901adb-48bf-453a-aa1c-8656fcb4859e",
   "metadata": {},
   "source": [
    "And below we will run a multi-curve risk assessment."
   ]
  },
  {
   "cell_type": "code",
   "execution_count": 154,
   "id": "820cd237-f2fb-4b18-8280-bca17a713099",
   "metadata": {},
   "outputs": [
    {
     "name": "stderr",
     "output_type": "stream",
     "text": [
      "Risk Calculation: 100%|███████████████████████████| 4/4 [00:21<00:00,  5.30s/it]\n"
     ]
    }
   ],
   "source": [
    "risk_results = DamageScanner(hazard_country, features, damage_curves, maxdam).risk(hazard_dict,multi_curves=multi_curves)"
   ]
  },
  {
   "cell_type": "markdown",
   "id": "c9a0f745-cb06-4af3-9f7f-be60629b14e9",
   "metadata": {},
   "source": [
    "## 7. Performing the Risk Assessment under Climate Change\n",
    "To do so, we need to select the return periods we want to include, and create a dictioniary as input. We will create this below."
   ]
  },
  {
   "cell_type": "code",
   "execution_count": 49,
   "id": "932940e3-d3c3-4659-979b-fbba911cd410",
   "metadata": {},
   "outputs": [],
   "source": [
    "return_periods = [25,50,100,250] \n",
    "\n",
    "hazard_dict_future = {}\n",
    "collect_max = []\n",
    "for return_period in return_periods:\n",
    "    hazard_map = xr.open_dataset(f\"https://hazards-data.unepgrid.ch/Wind_CC_T{return_period}.tif\", engine=\"rasterio\")\n",
    "\n",
    "    hazard_dict_future[return_period] = hazard_map.rio.clip_box(minx=country_bounds.minx.values[0],\n",
    "                     miny=country_bounds.miny.values[0],\n",
    "                     maxx=country_bounds.maxx.values[0],\n",
    "                     maxy=country_bounds.maxy.values[0]\n",
    "                    )\n",
    "    collect_max.append(hazard_map.band_data.max().values)"
   ]
  },
  {
   "cell_type": "code",
   "execution_count": 50,
   "id": "960a7120-6127-45f3-9453-d7c50b89c002",
   "metadata": {},
   "outputs": [
    {
     "name": "stderr",
     "output_type": "stream",
     "text": [
      "Risk Calculation: 100%|██████████████████████████████████████████████████████████████████| 4/4 [02:47<00:00, 41.75s/it]\n"
     ]
    }
   ],
   "source": [
    "risk_results_future = DamageScanner(hazard_country, features, damage_curves, maxdam).risk(hazard_dict_future,multi_curves=multi_curves)"
   ]
  },
  {
   "cell_type": "markdown",
   "id": "0a236f86-361c-4c25-a4ac-e7fde5a6119f",
   "metadata": {},
   "source": [
    "## 8. Visualize the risk results"
   ]
  },
  {
   "cell_type": "code",
   "execution_count": 51,
   "id": "ddd8212f-3919-47e5-a5e1-ce042cf95567",
   "metadata": {},
   "outputs": [
    {
     "data": {
      "image/png": "[encoded data removed]",
      "text/plain": [
       "<Figure size 1600x800 with 2 Axes>"
      ]
     },
     "metadata": {},
     "output_type": "display_data"
    }
   ],
   "source": [
    "# Create a figure with 2 subplots (2 rows, 1 column)\n",
    "fig, axes = plt.subplots(1, 2, figsize=(16, 8), sharey=True)\n",
    "\n",
    "# Define line color and colors for boxes\n",
    "colors = ['#f4f1de', '#e07a5f', '#3d405b', '#81b29a', '#f2cc8f']\n",
    "line_color = '#333333'\n",
    "\n",
    "# --- Left plot: Present day ---\n",
    "grouped_present = risk_results[['object_type'] + unique_curves].groupby('object_type').sum()\n",
    "boxplot_present = grouped_present.T.boxplot(column=list(sub_types), grid=False, patch_artist=True, ax=axes[0], return_type='dict')\n",
    "\n",
    "# Customize present day plot\n",
    "for box, color in zip(boxplot_present['boxes'], colors):\n",
    "    box.set_facecolor(color)\n",
    "    box.set_edgecolor(line_color)\n",
    "    box.set_linewidth(1.5)\n",
    "\n",
    "for whisker in boxplot_present['whiskers']:\n",
    "    whisker.set_color(line_color)\n",
    "    whisker.set_linewidth(1.5)\n",
    "\n",
    "for cap in boxplot_present['caps']:\n",
    "    cap.set_color(line_color)\n",
    "    cap.set_linewidth(1.5)\n",
    "\n",
    "for median in boxplot_present['medians']:\n",
    "    median.set_color(line_color)\n",
    "    median.set_linewidth(2)\n",
    "\n",
    "for flier in boxplot_present['fliers']:\n",
    "    flier.set_markerfacecolor(line_color)\n",
    "    flier.set_markeredgecolor(line_color)\n",
    "\n",
    "axes[0].set_title('Present-Day Situation', fontsize=14, fontweight='bold')\n",
    "axes[0].set_ylabel('Total EAD (Log Scale)', fontsize=12)\n",
    "axes[0].set_xlabel('Object Types', fontsize=12)\n",
    "axes[0].set_yscale('log')\n",
    "axes[0].grid(axis='y', linestyle='--', alpha=0.7)\n",
    "axes[0].tick_params(axis='x', rotation=0, labelsize=10)\n",
    "axes[0].tick_params(axis='y', labelsize=10)\n",
    "\n",
    "# --- Right plot: Future situation ---\n",
    "grouped_future = risk_results_future[['object_type'] + unique_curves].groupby('object_type').sum()\n",
    "boxplot_future = grouped_future.T.boxplot(column=list(sub_types), grid=False, patch_artist=True, ax=axes[1], return_type='dict')\n",
    "\n",
    "# Customize future plot\n",
    "for box, color in zip(boxplot_future['boxes'], colors):\n",
    "    box.set_facecolor(color)\n",
    "    box.set_edgecolor(line_color)\n",
    "    box.set_linewidth(1.5)\n",
    "\n",
    "for whisker in boxplot_future['whiskers']:\n",
    "    whisker.set_color(line_color)\n",
    "    whisker.set_linewidth(1.5)\n",
    "\n",
    "for cap in boxplot_future['caps']:\n",
    "    cap.set_color(line_color)\n",
    "    cap.set_linewidth(1.5)\n",
    "\n",
    "for median in boxplot_future['medians']:\n",
    "    median.set_color(line_color)\n",
    "    median.set_linewidth(2)\n",
    "\n",
    "for flier in boxplot_future['fliers']:\n",
    "    flier.set_markerfacecolor(line_color)\n",
    "    flier.set_markeredgecolor(line_color)\n",
    "\n",
    "axes[1].set_title('Future Situation', fontsize=14, fontweight='bold')\n",
    "axes[1].set_xlabel('Object Types', fontsize=12)\n",
    "axes[1].grid(axis='y', linestyle='--', alpha=0.7)\n",
    "axes[1].tick_params(axis='x', rotation=0, labelsize=10)\n",
    "\n",
    "# Add overall title\n",
    "fig.suptitle('Comparison of Expected Annual Damage: Present vs Future', fontsize=16, fontweight='bold')\n",
    "\n",
    "# Adjust layout to prevent overlap\n",
    "plt.tight_layout(rect=[0, 0, 1, 0.95])\n",
    "\n",
    "# Show the plot\n",
    "plt.show()\n"
   ]
  }
 ],
 "metadata": {
  "kernelspec": {
   "display_name": "Python 3 (ipykernel)",
   "language": "python",
   "name": "python3"
  },
  "language_info": {
   "codemirror_mode": {
    "name": "ipython",
    "version": 3
   },
   "file_extension": ".py",
   "mimetype": "text/x-python",
   "name": "python",
   "nbconvert_exporter": "python",
   "pygments_lexer": "ipython3",
   "version": "3.12.9"
  }
 },
 "nbformat": 4,
 "nbformat_minor": 5
}
